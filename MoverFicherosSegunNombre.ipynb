{
 "cells": [
  {
   "cell_type": "markdown",
   "metadata": {},
   "source": [
    "Aplicacion que mueve un fichero a una subcarpeta, segun la periodicidad"
   ]
  },
  {
   "cell_type": "code",
   "execution_count": 37,
   "metadata": {},
   "outputs": [],
   "source": [
    "RutaInicial='/home/minino/Documentos/00 trabajos Ute Alvac-Ati/03 SIPRESAS/Mantenimiento/04 MODELO NEGRATIN/SEVILLAS ADAPTADAS AL MODELO NEGRATIN'\n"
   ]
  },
  {
   "cell_type": "markdown",
   "metadata": {},
   "source": [
    "Ahora defino la subruta, que ira cambiando segun la presa"
   ]
  },
  {
   "cell_type": "code",
   "execution_count": 38,
   "metadata": {},
   "outputs": [],
   "source": [
    "subruta='test-PEÑAFLOR' # a modificar\n",
    "RutaCompleta=RutaInicial+'/'+subruta\n"
   ]
  },
  {
   "cell_type": "markdown",
   "metadata": {},
   "source": [
    "Obtenemos el listado de ficheros"
   ]
  },
  {
   "cell_type": "code",
   "execution_count": 39,
   "metadata": {},
   "outputs": [],
   "source": [
    "import os\n",
    "\n",
    "contenido=os.listdir(RutaCompleta)\n"
   ]
  },
  {
   "cell_type": "markdown",
   "metadata": {},
   "source": [
    "Lista de Periodicidades:\n",
    "SEMANAL\n",
    "QUINCENAL\n",
    "MENSUAL\n",
    "BIMENSUAL\n",
    "TRIMESTRAL\n",
    "SEMESTRAL\n",
    "ANUAL\n",
    "BIANUAL\n",
    "TRIENAL\n",
    "QUINQUENAL\n"
   ]
  },
  {
   "cell_type": "code",
   "execution_count": 40,
   "metadata": {},
   "outputs": [
    {
     "name": "stdout",
     "output_type": "stream",
     "text": [
      "['SEMANAL', 'QUINCENAL', 'MENSUAL', 'BIMENSUAL', 'TRIMESTRAL', 'SEMESTRAL', 'ANUAL', 'BIANUAL', 'TRIENAL', 'QUINQUENAL']\n"
     ]
    }
   ],
   "source": [
    "ListaPeriodos = ['SEMANAL','QUINCENAL','MENSUAL','BIMENSUAL','TRIMESTRAL','SEMESTRAL','ANUAL','BIANUAL','TRIENAL','QUINQUENAL']\n",
    "print(ListaPeriodos)"
   ]
  },
  {
   "cell_type": "code",
   "execution_count": 41,
   "metadata": {},
   "outputs": [],
   "source": [
    "def periodo(nombre,periodicidad):\n",
    "    if (periodicidad in nombre):\n",
    "        if not os.path.exists(RutaCompleta+\"/\"+periodicidad):\n",
    "            # si no existe la ruta la crea\n",
    "            os.makedirs(RutaCompleta+\"/\"+periodicidad)\n",
    "        #movemos el fichero\n",
    "        os.rename(RutaCompleta+\"/\"+nombre,RutaCompleta+\"/\"+periodicidad+\"/\"+nombre)\n",
    "    return True"
   ]
  },
  {
   "cell_type": "markdown",
   "metadata": {},
   "source": [
    "Procesamos cada uno de los fichero, para moverlo al lugar adecuado:"
   ]
  },
  {
   "cell_type": "code",
   "execution_count": 42,
   "metadata": {},
   "outputs": [],
   "source": [
    "for fichero  in contenido:\n",
    "    for p in ListaPeriodos:\n",
    "        periodo(fichero,p)\n",
    "    "
   ]
  },
  {
   "cell_type": "code",
   "execution_count": null,
   "metadata": {},
   "outputs": [],
   "source": [
    "# y los fichero serán movidos a las subcarpetas"
   ]
  }
 ],
 "metadata": {
  "kernelspec": {
   "display_name": "Python 3",
   "language": "python",
   "name": "python3"
  },
  "language_info": {
   "codemirror_mode": {
    "name": "ipython",
    "version": 3
   },
   "file_extension": ".py",
   "mimetype": "text/x-python",
   "name": "python",
   "nbconvert_exporter": "python",
   "pygments_lexer": "ipython3",
   "version": "3.6.9"
  }
 },
 "nbformat": 4,
 "nbformat_minor": 2
}
