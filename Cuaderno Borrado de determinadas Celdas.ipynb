{
 "cells": [
  {
   "cell_type": "markdown",
   "metadata": {},
   "source": [
    "Procesar lista de ficheros EXCEL. Objetivo: añadir periodicidad al nombre del fichero\n"
   ]
  },
  {
   "cell_type": "code",
   "execution_count": 91,
   "metadata": {},
   "outputs": [],
   "source": [
    "rutainicial='/home/minino/Documentos/00 trabajos Ute Alvac-Ati/03 SIPRESAS/Mantenimiento/04 MODELO NEGRATIN/SEVILLAS ADAPTADAS AL MODELO NEGRATIN/'"
   ]
  },
  {
   "cell_type": "markdown",
   "metadata": {},
   "source": [
    "Configura ruta donde va  a actuar el cambio de nobmre:"
   ]
  },
  {
   "cell_type": "code",
   "execution_count": 92,
   "metadata": {},
   "outputs": [],
   "source": [
    "subcarpeta='Actividades-CHG.E99-RENEGADO'"
   ]
  },
  {
   "cell_type": "code",
   "execution_count": 93,
   "metadata": {},
   "outputs": [],
   "source": [
    "ruta=rutainicial+subcarpeta"
   ]
  },
  {
   "cell_type": "code",
   "execution_count": 94,
   "metadata": {},
   "outputs": [
    {
     "data": {
      "text/plain": [
       "['MMAX_MMAX_99__TRIMESTRAL__.xlsx',\n",
       " 'MIEL_CEGN_79__QUINQUENAL__.xlsx',\n",
       " 'MMAX_MMAX_39__ANUAL__.xlsx',\n",
       " 'MMAX_MMAX_89__ANUAL__.xlsx',\n",
       " 'MIEL_CEGN_89__TRIMESTRAL__.xlsx',\n",
       " 'MEHM_HMXP_69__MENSUAL__.xlsx',\n",
       " 'MEHM_HMXP_59__TRIMESTRAL__.xlsx',\n",
       " 'MIEL_CTAT_99__TRIENAL__.xlsx',\n",
       " 'MACC_MAZP_89__ANUAL__.xlsx',\n",
       " 'TQUI_GNRL_99__QUINCENAL__.xlsx',\n",
       " 'MIEM_GGEG_99__QUINCENAL__.xlsx',\n",
       " 'MEAT_MEAT_89__SEMESTRAL__.xlsx',\n",
       " 'MACC_MDPS_89__TRIMESTRAL__.xlsx',\n",
       " 'MACC_MAZP_99__MENSUAL__.xlsx',\n",
       " 'MEHM_HMXP_39__BIENAL__.xlsx',\n",
       " 'MEHM_HMXP_79__MENSUAL__.xlsx',\n",
       " 'MEHM_HMXP_49__QUINQUENAL__.xlsx',\n",
       " 'MACC_MDPS_79__SEMESTRAL__.xlsx']"
      ]
     },
     "execution_count": 94,
     "metadata": {},
     "output_type": "execute_result"
    }
   ],
   "source": [
    "import os\n",
    "\n",
    "contenido=os.listdir(ruta)\n",
    "\n",
    "contenido"
   ]
  },
  {
   "cell_type": "code",
   "execution_count": 95,
   "metadata": {},
   "outputs": [],
   "source": [
    "import sys\n",
    "import openpyxl\n",
    "\n",
    "def ModificarCelda(pestana,columna, fila,texto, rutafichero):\n",
    "    filePath=rutafichero\n",
    "    nombrePestana=pestana\n",
    "    letraColumna=columna.upper()\n",
    "    fila=int(fila)\n",
    "    #Abrir fichero\n",
    "    wb=openpyxl.load_workbook(filePath)\n",
    "    #Seleccionar pestaña\n",
    "    worksheet=wb[nombrePestana]\n",
    "    #Asignar valor\n",
    "    worksheet[letraColumna+str(fila)]=texto\n",
    "    wb.save(filePath)\n",
    "    return"
   ]
  },
  {
   "cell_type": "code",
   "execution_count": 96,
   "metadata": {},
   "outputs": [
    {
     "name": "stdout",
     "output_type": "stream",
     "text": [
      "Fichero modificado:\n",
      "/home/minino/Documentos/00 trabajos Ute Alvac-Ati/03 SIPRESAS/Mantenimiento/04 MODELO NEGRATIN/SEVILLAS ADAPTADAS AL MODELO NEGRATIN/Actividades-CHG.E99-RENEGADO/MMAX_MMAX_99__TRIMESTRAL__.xlsx\n",
      "Fichero modificado:\n",
      "/home/minino/Documentos/00 trabajos Ute Alvac-Ati/03 SIPRESAS/Mantenimiento/04 MODELO NEGRATIN/SEVILLAS ADAPTADAS AL MODELO NEGRATIN/Actividades-CHG.E99-RENEGADO/MIEL_CEGN_79__QUINQUENAL__.xlsx\n",
      "Fichero modificado:\n",
      "/home/minino/Documentos/00 trabajos Ute Alvac-Ati/03 SIPRESAS/Mantenimiento/04 MODELO NEGRATIN/SEVILLAS ADAPTADAS AL MODELO NEGRATIN/Actividades-CHG.E99-RENEGADO/MMAX_MMAX_39__ANUAL__.xlsx\n",
      "Fichero modificado:\n",
      "/home/minino/Documentos/00 trabajos Ute Alvac-Ati/03 SIPRESAS/Mantenimiento/04 MODELO NEGRATIN/SEVILLAS ADAPTADAS AL MODELO NEGRATIN/Actividades-CHG.E99-RENEGADO/MMAX_MMAX_89__ANUAL__.xlsx\n",
      "Fichero modificado:\n",
      "/home/minino/Documentos/00 trabajos Ute Alvac-Ati/03 SIPRESAS/Mantenimiento/04 MODELO NEGRATIN/SEVILLAS ADAPTADAS AL MODELO NEGRATIN/Actividades-CHG.E99-RENEGADO/MIEL_CEGN_89__TRIMESTRAL__.xlsx\n",
      "Fichero modificado:\n",
      "/home/minino/Documentos/00 trabajos Ute Alvac-Ati/03 SIPRESAS/Mantenimiento/04 MODELO NEGRATIN/SEVILLAS ADAPTADAS AL MODELO NEGRATIN/Actividades-CHG.E99-RENEGADO/MEHM_HMXP_69__MENSUAL__.xlsx\n",
      "Fichero modificado:\n",
      "/home/minino/Documentos/00 trabajos Ute Alvac-Ati/03 SIPRESAS/Mantenimiento/04 MODELO NEGRATIN/SEVILLAS ADAPTADAS AL MODELO NEGRATIN/Actividades-CHG.E99-RENEGADO/MEHM_HMXP_59__TRIMESTRAL__.xlsx\n",
      "Fichero modificado:\n",
      "/home/minino/Documentos/00 trabajos Ute Alvac-Ati/03 SIPRESAS/Mantenimiento/04 MODELO NEGRATIN/SEVILLAS ADAPTADAS AL MODELO NEGRATIN/Actividades-CHG.E99-RENEGADO/MIEL_CTAT_99__TRIENAL__.xlsx\n",
      "Fichero modificado:\n",
      "/home/minino/Documentos/00 trabajos Ute Alvac-Ati/03 SIPRESAS/Mantenimiento/04 MODELO NEGRATIN/SEVILLAS ADAPTADAS AL MODELO NEGRATIN/Actividades-CHG.E99-RENEGADO/MACC_MAZP_89__ANUAL__.xlsx\n",
      "Fichero modificado:\n",
      "/home/minino/Documentos/00 trabajos Ute Alvac-Ati/03 SIPRESAS/Mantenimiento/04 MODELO NEGRATIN/SEVILLAS ADAPTADAS AL MODELO NEGRATIN/Actividades-CHG.E99-RENEGADO/TQUI_GNRL_99__QUINCENAL__.xlsx\n",
      "Fichero modificado:\n",
      "/home/minino/Documentos/00 trabajos Ute Alvac-Ati/03 SIPRESAS/Mantenimiento/04 MODELO NEGRATIN/SEVILLAS ADAPTADAS AL MODELO NEGRATIN/Actividades-CHG.E99-RENEGADO/MIEM_GGEG_99__QUINCENAL__.xlsx\n",
      "Fichero modificado:\n",
      "/home/minino/Documentos/00 trabajos Ute Alvac-Ati/03 SIPRESAS/Mantenimiento/04 MODELO NEGRATIN/SEVILLAS ADAPTADAS AL MODELO NEGRATIN/Actividades-CHG.E99-RENEGADO/MEAT_MEAT_89__SEMESTRAL__.xlsx\n",
      "Fichero modificado:\n",
      "/home/minino/Documentos/00 trabajos Ute Alvac-Ati/03 SIPRESAS/Mantenimiento/04 MODELO NEGRATIN/SEVILLAS ADAPTADAS AL MODELO NEGRATIN/Actividades-CHG.E99-RENEGADO/MACC_MDPS_89__TRIMESTRAL__.xlsx\n",
      "Fichero modificado:\n",
      "/home/minino/Documentos/00 trabajos Ute Alvac-Ati/03 SIPRESAS/Mantenimiento/04 MODELO NEGRATIN/SEVILLAS ADAPTADAS AL MODELO NEGRATIN/Actividades-CHG.E99-RENEGADO/MACC_MAZP_99__MENSUAL__.xlsx\n",
      "Fichero modificado:\n",
      "/home/minino/Documentos/00 trabajos Ute Alvac-Ati/03 SIPRESAS/Mantenimiento/04 MODELO NEGRATIN/SEVILLAS ADAPTADAS AL MODELO NEGRATIN/Actividades-CHG.E99-RENEGADO/MEHM_HMXP_39__BIENAL__.xlsx\n",
      "Fichero modificado:\n",
      "/home/minino/Documentos/00 trabajos Ute Alvac-Ati/03 SIPRESAS/Mantenimiento/04 MODELO NEGRATIN/SEVILLAS ADAPTADAS AL MODELO NEGRATIN/Actividades-CHG.E99-RENEGADO/MEHM_HMXP_79__MENSUAL__.xlsx\n",
      "Fichero modificado:\n",
      "/home/minino/Documentos/00 trabajos Ute Alvac-Ati/03 SIPRESAS/Mantenimiento/04 MODELO NEGRATIN/SEVILLAS ADAPTADAS AL MODELO NEGRATIN/Actividades-CHG.E99-RENEGADO/MEHM_HMXP_49__QUINQUENAL__.xlsx\n",
      "Fichero modificado:\n",
      "/home/minino/Documentos/00 trabajos Ute Alvac-Ati/03 SIPRESAS/Mantenimiento/04 MODELO NEGRATIN/SEVILLAS ADAPTADAS AL MODELO NEGRATIN/Actividades-CHG.E99-RENEGADO/MACC_MDPS_79__SEMESTRAL__.xlsx\n",
      "---------------------\n",
      "fin del trabajo\n",
      "---------------------\n"
     ]
    }
   ],
   "source": [
    "for fichero  in contenido:\n",
    "    completa=ruta+'/'+fichero\n",
    "    # borro celda D4 igual a \"\"\n",
    "    ModificarCelda('Actividad','D',4,\"\",completa)\n",
    "    ModificarCelda('Actividad','L',5,\"\",completa)\n",
    "    print(\"Fichero modificado:\")\n",
    "    print(completa)\n",
    "print('---------------------')\n",
    "print('fin del trabajo')\n",
    "print('---------------------')\n",
    "\n"
   ]
  }
 ],
 "metadata": {
  "kernelspec": {
   "display_name": "Python 3",
   "language": "python",
   "name": "python3"
  },
  "language_info": {
   "codemirror_mode": {
    "name": "ipython",
    "version": 3
   },
   "file_extension": ".py",
   "mimetype": "text/x-python",
   "name": "python",
   "nbconvert_exporter": "python",
   "pygments_lexer": "ipython3",
   "version": "3.6.9"
  }
 },
 "nbformat": 4,
 "nbformat_minor": 2
}
