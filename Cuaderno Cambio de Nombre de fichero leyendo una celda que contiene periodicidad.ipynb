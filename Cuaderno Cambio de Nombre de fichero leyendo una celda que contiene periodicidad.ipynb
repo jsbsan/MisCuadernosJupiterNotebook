{
 "cells": [
  {
   "cell_type": "markdown",
   "metadata": {},
   "source": [
    "Procesar lista de ficheros EXCEL. Objetivo: añadir periodicidad al nombre del fichero\n"
   ]
  },
  {
   "cell_type": "code",
   "execution_count": 101,
   "metadata": {},
   "outputs": [],
   "source": [
    "rutainicial='/home/minino/Documentos/00 trabajos Ute Alvac-Ati/03 SIPRESAS/Mantenimiento/04 MODELO NEGRATIN/SEVILLAS ADAPTADAS AL MODELO NEGRATIN/'"
   ]
  },
  {
   "cell_type": "markdown",
   "metadata": {},
   "source": [
    "Configura ruta donde va  a actuar el cambio de nobmre:"
   ]
  },
  {
   "cell_type": "code",
   "execution_count": 102,
   "metadata": {},
   "outputs": [],
   "source": [
    "subcarpeta='Actividades-CHG.E99-RENEGADO'"
   ]
  },
  {
   "cell_type": "code",
   "execution_count": 103,
   "metadata": {},
   "outputs": [],
   "source": [
    "ruta=rutainicial+subcarpeta"
   ]
  },
  {
   "cell_type": "code",
   "execution_count": 104,
   "metadata": {},
   "outputs": [
    {
     "data": {
      "text/plain": [
       "['MEHM_HMXP_59.xlsx',\n",
       " 'MIEL_CEGN_79.xlsx',\n",
       " 'MEHM_HMXP_49.xlsx',\n",
       " 'MEHM_HMXP_69.xlsx',\n",
       " 'TQUI_GNRL_99.xlsx',\n",
       " 'MMAX_MMAX_99.xlsx',\n",
       " 'MIEL_CEGN_89.xlsx',\n",
       " 'MIEM_GGEG_99.xlsx',\n",
       " 'MACC_MAZP_89.xlsx',\n",
       " 'MMAX_MMAX_39.xlsx',\n",
       " 'MACC_MAZP_99.xlsx',\n",
       " 'MEHM_HMXP_39.xlsx',\n",
       " 'MEAT_MEAT_89.xlsx',\n",
       " 'MEHM_HMXP_79.xlsx',\n",
       " 'MMAX_MMAX_89.xlsx',\n",
       " 'MACC_MDPS_79.xlsx',\n",
       " 'MACC_MDPS_89.xlsx',\n",
       " 'MIEL_CTAT_99.xlsx']"
      ]
     },
     "execution_count": 104,
     "metadata": {},
     "output_type": "execute_result"
    }
   ],
   "source": [
    "import os\n",
    "\n",
    "contenido=os.listdir(ruta)\n",
    "\n",
    "contenido"
   ]
  },
  {
   "cell_type": "code",
   "execution_count": 105,
   "metadata": {},
   "outputs": [],
   "source": [
    "import sys\n",
    "import xlrd\n",
    "\n",
    "def leerCelda(pestana,columna, fila,rutafichero):\n",
    "    filePath=rutafichero\n",
    "    nombrePestana=pestana\n",
    "    letraColumna=columna.upper()\n",
    "    numeroColumna=ord(letraColumna)-65\n",
    "    fila=int(fila)-1\n",
    "    openFile=xlrd.open_workbook(filePath)\n",
    "    sheet=openFile.sheet_by_name(nombrePestana)\n",
    "    return sheet.cell_value(fila,numeroColumna) "
   ]
  },
  {
   "cell_type": "code",
   "execution_count": 106,
   "metadata": {},
   "outputs": [],
   "source": [
    "for fichero  in contenido:\n",
    "    completa=ruta+'/'+fichero\n",
    "    # La periodicidad se encuentra en la ficha Actividad, celda I5\n",
    "    periodicidad=leerCelda('Actividad','I',5,completa)\n",
    "    file_old=os.path.join(ruta,fichero)\n",
    "    file_new=os.path.join(ruta,fichero.replace('.xlsx','')+'__'+periodicidad+'__.xlsx')\n",
    "    os.rename(file_old,file_new)"
   ]
  }
 ],
 "metadata": {
  "kernelspec": {
   "display_name": "Python 3",
   "language": "python",
   "name": "python3"
  },
  "language_info": {
   "codemirror_mode": {
    "name": "ipython",
    "version": 3
   },
   "file_extension": ".py",
   "mimetype": "text/x-python",
   "name": "python",
   "nbconvert_exporter": "python",
   "pygments_lexer": "ipython3",
   "version": "3.6.9"
  }
 },
 "nbformat": 4,
 "nbformat_minor": 2
}
